{
 "cells": [
  {
   "cell_type": "code",
   "execution_count": 1,
   "metadata": {},
   "outputs": [],
   "source": [
    "# LIBRARIES IMPORT\n",
    "import os\n",
    "import json\n",
    "import pandas as pd\n",
    "import numpy as np\n",
    "import seaborn as sb\n",
    "from sklearn.linear_model import LogisticRegression\n",
    "from sklearn.model_selection import train_test_split\n",
    "from sklearn.preprocessing import LabelEncoder"
   ]
  },
  {
   "cell_type": "code",
   "execution_count": 2,
   "metadata": {},
   "outputs": [],
   "source": [
    "# DECLARING CONSTANTS\n",
    "SOURCE_PATH = './data/all-rnr-annotated-threads'\n",
    "\n",
    "TOPICS = [\n",
    "    'charliehebdo-all-rnr-threads',\n",
    "    'ferguson-all-rnr-threads',\n",
    "    'ebola-essien-all-rnr-threads',\n",
    "    'germanwings-crash-all-rnr-threads',\n",
    "    'gurlitt-all-rnr-threads',\n",
    "    'ottawashooting-all-rnr-threads',\n",
    "    'prince-toronto-all-rnr-threads',\n",
    "    'putinmissing-all-rnr-threads',\n",
    "    'sydneysiege-all-rnr-threads'\n",
    "]\n",
    "\n",
    "SELECTABLE_COLUMNS = [\n",
    "    'text', \n",
    "    'favorite_count',\n",
    "    'retweeted',\n",
    "    'retweet_count',\n",
    "    'favorited',\n",
    "    'user.profile_use_background_image',\n",
    "    'user.default_profile_image',\n",
    "    'user.verified', \n",
    "    'user.followers_count',\n",
    "    'user.listed_count',\n",
    "    'user.statuses_count',\n",
    "    'user.description',\n",
    "    'user.friends_count',\n",
    "    'user.favourites_count'\n",
    "]\n",
    "\n",
    "CLASSIFICATION_DATA = []"
   ]
  },
  {
   "cell_type": "code",
   "execution_count": 3,
   "metadata": {},
   "outputs": [],
   "source": [
    "def preprocess_topic(source_path,topic):\n",
    "    topic_path = \"{0}/{1}/\".format(source_path,topic)\n",
    "    topic_data = []\n",
    "    for class_name in ['rumours', 'non-rumours']:\n",
    "        class_path = topic_path + class_name\n",
    "        class_dirs = os.listdir(class_path)\n",
    "        for class_dir in os.listdir(class_path):\n",
    "            features_set = get_topic_data(class_path,class_dir)\n",
    "            features_set[:0] = [topic]\n",
    "            features_set.append(class_name)\n",
    "            topic_data.append(features_set)\n",
    "            CLASSIFICATION_DATA.append(features_set)"
   ]
  },
  {
   "cell_type": "code",
   "execution_count": 4,
   "metadata": {},
   "outputs": [],
   "source": [
    "def get_topic_data(class_path,topic_id):\n",
    "    data_path = \"{0}/{1}/source-tweets/{2}.json\".format(class_path,topic_id,topic_id)\n",
    "\n",
    "    with open(data_path, 'r') as f:\n",
    "        json_data = json.load(f)\n",
    "    tweets_df = pd.json_normalize(json_data)\n",
    "    \n",
    "    flat_tweets = tweets_df[SELECTABLE_COLUMNS].to_dict('list')\n",
    "    csv_data = sum(flat_tweets.values(),[])\n",
    "    csv_data.append(len(os.listdir(\"{0}/{1}/reactions\".format(class_path,topic_id))))\n",
    "    return(csv_data)"
   ]
  },
  {
   "cell_type": "code",
   "execution_count": 5,
   "metadata": {},
   "outputs": [],
   "source": [
    "#Data Generation\n",
    "def create_data_set():\n",
    "    for topic in TOPICS:\n",
    "        preprocess_topic(SOURCE_PATH,topic)\n",
    "\n",
    "def generate_df():\n",
    "    if CLASSIFICATION_DATA:\n",
    "        data_ndarray = np.array(CLASSIFICATION_DATA)\n",
    "        data_columns = ['topic'] +SELECTABLE_COLUMNS+ ['reaction_count', 'category']\n",
    "        return(pd.DataFrame(data_ndarray, columns=data_columns))\n",
    "create_data_set()\n",
    "df = generate_df()"
   ]
  },
  {
   "cell_type": "code",
   "execution_count": 6,
   "metadata": {},
   "outputs": [
    {
     "name": "stdout",
     "output_type": "stream",
     "text": [
      "                               topic  \\\n",
      "count                           6425   \n",
      "unique                             9   \n",
      "top     charliehebdo-all-rnr-threads   \n",
      "freq                            2079   \n",
      "\n",
      "                                                     text  favorite_count  \\\n",
      "count                                                6425            6425   \n",
      "unique                                               6407             732   \n",
      "top     In a tweet concert promoter Live Nation says t...               0   \n",
      "freq                                                    2             188   \n",
      "\n",
      "       retweeted  retweet_count favorited user.profile_use_background_image  \\\n",
      "count       6425           6425      6425                              6425   \n",
      "unique         1           1070         1                                 2   \n",
      "top        False              2     False                              True   \n",
      "freq        6425            156      6425                              5619   \n",
      "\n",
      "       user.default_profile_image user.verified  user.followers_count  \\\n",
      "count                        6425          6425                  6425   \n",
      "unique                          2             2                  5926   \n",
      "top                         False          True                   876   \n",
      "freq                         6421          3350                    14   \n",
      "\n",
      "        user.listed_count  user.statuses_count  \\\n",
      "count                6425                 6425   \n",
      "unique               2893                 5286   \n",
      "top                     0                12585   \n",
      "freq                   49                   22   \n",
      "\n",
      "                                         user.description  user.friends_count  \\\n",
      "count                                                6405                6425   \n",
      "unique                                               3003                2213   \n",
      "top     Dad, Husband, Alderman of the @21stWard in St....                   3   \n",
      "freq                                                  102                 109   \n",
      "\n",
      "        user.favourites_count  reaction_count     category  \n",
      "count                    6425            6425         6425  \n",
      "unique                   2163             138            2  \n",
      "top                         0               0  non-rumours  \n",
      "freq                      318             677         4023  \n",
      "non-rumours    4023\n",
      "rumours        2402\n",
      "Name: category, dtype: int64\n"
     ]
    },
    {
     "data": {
      "text/html": [
       "<div>\n",
       "<style scoped>\n",
       "    .dataframe tbody tr th:only-of-type {\n",
       "        vertical-align: middle;\n",
       "    }\n",
       "\n",
       "    .dataframe tbody tr th {\n",
       "        vertical-align: top;\n",
       "    }\n",
       "\n",
       "    .dataframe thead th {\n",
       "        text-align: right;\n",
       "    }\n",
       "</style>\n",
       "<table border=\"1\" class=\"dataframe\">\n",
       "  <thead>\n",
       "    <tr style=\"text-align: right;\">\n",
       "      <th></th>\n",
       "      <th>topic</th>\n",
       "      <th>text</th>\n",
       "      <th>favorite_count</th>\n",
       "      <th>retweeted</th>\n",
       "      <th>retweet_count</th>\n",
       "      <th>favorited</th>\n",
       "      <th>user.profile_use_background_image</th>\n",
       "      <th>user.default_profile_image</th>\n",
       "      <th>user.verified</th>\n",
       "      <th>user.followers_count</th>\n",
       "      <th>user.listed_count</th>\n",
       "      <th>user.statuses_count</th>\n",
       "      <th>user.description</th>\n",
       "      <th>user.friends_count</th>\n",
       "      <th>user.favourites_count</th>\n",
       "      <th>reaction_count</th>\n",
       "      <th>category</th>\n",
       "    </tr>\n",
       "  </thead>\n",
       "  <tbody>\n",
       "    <tr>\n",
       "      <th>0</th>\n",
       "      <td>charliehebdo-all-rnr-threads</td>\n",
       "      <td>Report: Hostages taken at a printing shop nort...</td>\n",
       "      <td>60</td>\n",
       "      <td>False</td>\n",
       "      <td>272</td>\n",
       "      <td>False</td>\n",
       "      <td>True</td>\n",
       "      <td>False</td>\n",
       "      <td>True</td>\n",
       "      <td>7197412</td>\n",
       "      <td>89498</td>\n",
       "      <td>89005</td>\n",
       "      <td>Get our free iOS or Android app to unlock more...</td>\n",
       "      <td>509</td>\n",
       "      <td>19</td>\n",
       "      <td>8</td>\n",
       "      <td>rumours</td>\n",
       "    </tr>\n",
       "    <tr>\n",
       "      <th>1</th>\n",
       "      <td>charliehebdo-all-rnr-threads</td>\n",
       "      <td>#CharlieHebdo editor-in-chief Stephane Charbon...</td>\n",
       "      <td>179</td>\n",
       "      <td>False</td>\n",
       "      <td>858</td>\n",
       "      <td>False</td>\n",
       "      <td>True</td>\n",
       "      <td>False</td>\n",
       "      <td>True</td>\n",
       "      <td>12909401</td>\n",
       "      <td>102656</td>\n",
       "      <td>22778</td>\n",
       "      <td>Breaking news alerts and updates from the BBC....</td>\n",
       "      <td>3</td>\n",
       "      <td>0</td>\n",
       "      <td>10</td>\n",
       "      <td>rumours</td>\n",
       "    </tr>\n",
       "    <tr>\n",
       "      <th>2</th>\n",
       "      <td>charliehebdo-all-rnr-threads</td>\n",
       "      <td>Hostages have reportedly been taken as police ...</td>\n",
       "      <td>1</td>\n",
       "      <td>False</td>\n",
       "      <td>143</td>\n",
       "      <td>False</td>\n",
       "      <td>True</td>\n",
       "      <td>False</td>\n",
       "      <td>True</td>\n",
       "      <td>1790312</td>\n",
       "      <td>14711</td>\n",
       "      <td>122439</td>\n",
       "      <td>Stories direct from the @SkyNews newsroom. Twe...</td>\n",
       "      <td>17</td>\n",
       "      <td>2</td>\n",
       "      <td>2</td>\n",
       "      <td>rumours</td>\n",
       "    </tr>\n",
       "    <tr>\n",
       "      <th>3</th>\n",
       "      <td>charliehebdo-all-rnr-threads</td>\n",
       "      <td>Suspects in Thursday slaying of policewoman an...</td>\n",
       "      <td>19</td>\n",
       "      <td>False</td>\n",
       "      <td>117</td>\n",
       "      <td>False</td>\n",
       "      <td>True</td>\n",
       "      <td>False</td>\n",
       "      <td>False</td>\n",
       "      <td>213434</td>\n",
       "      <td>2454</td>\n",
       "      <td>22939</td>\n",
       "      <td>A global news channel bringing you breaking ne...</td>\n",
       "      <td>2267</td>\n",
       "      <td>295</td>\n",
       "      <td>8</td>\n",
       "      <td>rumours</td>\n",
       "    </tr>\n",
       "    <tr>\n",
       "      <th>4</th>\n",
       "      <td>charliehebdo-all-rnr-threads</td>\n",
       "      <td>#BREAKING - An armed man has reportedly taken ...</td>\n",
       "      <td>23</td>\n",
       "      <td>False</td>\n",
       "      <td>214</td>\n",
       "      <td>False</td>\n",
       "      <td>True</td>\n",
       "      <td>False</td>\n",
       "      <td>True</td>\n",
       "      <td>1258380</td>\n",
       "      <td>6512</td>\n",
       "      <td>144267</td>\n",
       "      <td>International News 24/7 in your language: @Fra...</td>\n",
       "      <td>380</td>\n",
       "      <td>424</td>\n",
       "      <td>7</td>\n",
       "      <td>rumours</td>\n",
       "    </tr>\n",
       "  </tbody>\n",
       "</table>\n",
       "</div>"
      ],
      "text/plain": [
       "                          topic  \\\n",
       "0  charliehebdo-all-rnr-threads   \n",
       "1  charliehebdo-all-rnr-threads   \n",
       "2  charliehebdo-all-rnr-threads   \n",
       "3  charliehebdo-all-rnr-threads   \n",
       "4  charliehebdo-all-rnr-threads   \n",
       "\n",
       "                                                text favorite_count retweeted  \\\n",
       "0  Report: Hostages taken at a printing shop nort...             60     False   \n",
       "1  #CharlieHebdo editor-in-chief Stephane Charbon...            179     False   \n",
       "2  Hostages have reportedly been taken as police ...              1     False   \n",
       "3  Suspects in Thursday slaying of policewoman an...             19     False   \n",
       "4  #BREAKING - An armed man has reportedly taken ...             23     False   \n",
       "\n",
       "  retweet_count favorited user.profile_use_background_image  \\\n",
       "0           272     False                              True   \n",
       "1           858     False                              True   \n",
       "2           143     False                              True   \n",
       "3           117     False                              True   \n",
       "4           214     False                              True   \n",
       "\n",
       "  user.default_profile_image user.verified user.followers_count  \\\n",
       "0                      False          True              7197412   \n",
       "1                      False          True             12909401   \n",
       "2                      False          True              1790312   \n",
       "3                      False         False               213434   \n",
       "4                      False          True              1258380   \n",
       "\n",
       "  user.listed_count user.statuses_count  \\\n",
       "0             89498               89005   \n",
       "1            102656               22778   \n",
       "2             14711              122439   \n",
       "3              2454               22939   \n",
       "4              6512              144267   \n",
       "\n",
       "                                    user.description user.friends_count  \\\n",
       "0  Get our free iOS or Android app to unlock more...                509   \n",
       "1  Breaking news alerts and updates from the BBC....                  3   \n",
       "2  Stories direct from the @SkyNews newsroom. Twe...                 17   \n",
       "3  A global news channel bringing you breaking ne...               2267   \n",
       "4  International News 24/7 in your language: @Fra...                380   \n",
       "\n",
       "  user.favourites_count reaction_count category  \n",
       "0                    19              8  rumours  \n",
       "1                     0             10  rumours  \n",
       "2                     2              2  rumours  \n",
       "3                   295              8  rumours  \n",
       "4                   424              7  rumours  "
      ]
     },
     "execution_count": 6,
     "metadata": {},
     "output_type": "execute_result"
    }
   ],
   "source": [
    "print(df.describe())\n",
    "print(df[\"category\"].value_counts())\n",
    "df.head()"
   ]
  },
  {
   "cell_type": "code",
   "execution_count": 7,
   "metadata": {},
   "outputs": [],
   "source": [
    "# PREPROCESSING DATA\n",
    "df['text_length']  = df['text'].str.len()\n",
    "df[\"contain_hashtags\"] = df[\"text\"].str.contains(\"#\")\n",
    "df['user.description_length']  = df['user.description'].str.len()\n",
    "df['user.description_contain_at']  = df['user.description'].str.contains(\"@\")"
   ]
  },
  {
   "cell_type": "code",
   "execution_count": 8,
   "metadata": {},
   "outputs": [],
   "source": [
    "# Label encoding boolean columns\n",
    "categorical_columns = [\n",
    "    'retweeted',\n",
    "    'favorited',\n",
    "    'user.profile_use_background_image',\n",
    "    'user.default_profile_image',\n",
    "    'user.verified',\n",
    "    'category',\n",
    "    'contain_hashtags',\n",
    "    'user.description_contain_at'\n",
    "]\n",
    "\n",
    "le = LabelEncoder()\n",
    "df[categorical_columns] = df[categorical_columns].apply(le.fit_transform)\n",
    "\n",
    "# One hot encoding different topic categories\n",
    "df = pd.concat([df,pd.get_dummies(df['topic'])],axis=1)\n",
    "\n",
    "# Drop original columns after modification\n",
    "df = df.drop(['topic','text', 'user.description'], axis=1)"
   ]
  },
  {
   "cell_type": "code",
   "execution_count": 9,
   "metadata": {},
   "outputs": [],
   "source": [
    "#Handling missing values by imputations\n",
    "df['user.description_length'].fillna(df['user.description_length'].mean(), inplace = True)"
   ]
  },
  {
   "cell_type": "code",
   "execution_count": 10,
   "metadata": {},
   "outputs": [
    {
     "name": "stdout",
     "output_type": "stream",
     "text": [
      "<class 'pandas.core.frame.DataFrame'>\n",
      "RangeIndex: 6425 entries, 0 to 6424\n",
      "Data columns (total 27 columns):\n",
      " #   Column                             Non-Null Count  Dtype  \n",
      "---  ------                             --------------  -----  \n",
      " 0   favorite_count                     6425 non-null   object \n",
      " 1   retweeted                          6425 non-null   int64  \n",
      " 2   retweet_count                      6425 non-null   object \n",
      " 3   favorited                          6425 non-null   int64  \n",
      " 4   user.profile_use_background_image  6425 non-null   int64  \n",
      " 5   user.default_profile_image         6425 non-null   int64  \n",
      " 6   user.verified                      6425 non-null   int64  \n",
      " 7   user.followers_count               6425 non-null   object \n",
      " 8   user.listed_count                  6425 non-null   object \n",
      " 9   user.statuses_count                6425 non-null   object \n",
      " 10  user.friends_count                 6425 non-null   object \n",
      " 11  user.favourites_count              6425 non-null   object \n",
      " 12  reaction_count                     6425 non-null   object \n",
      " 13  category                           6425 non-null   int64  \n",
      " 14  text_length                        6425 non-null   int64  \n",
      " 15  contain_hashtags                   6425 non-null   int64  \n",
      " 16  user.description_length            6425 non-null   float64\n",
      " 17  user.description_contain_at        6425 non-null   int64  \n",
      " 18  charliehebdo-all-rnr-threads       6425 non-null   uint8  \n",
      " 19  ebola-essien-all-rnr-threads       6425 non-null   uint8  \n",
      " 20  ferguson-all-rnr-threads           6425 non-null   uint8  \n",
      " 21  germanwings-crash-all-rnr-threads  6425 non-null   uint8  \n",
      " 22  gurlitt-all-rnr-threads            6425 non-null   uint8  \n",
      " 23  ottawashooting-all-rnr-threads     6425 non-null   uint8  \n",
      " 24  prince-toronto-all-rnr-threads     6425 non-null   uint8  \n",
      " 25  putinmissing-all-rnr-threads       6425 non-null   uint8  \n",
      " 26  sydneysiege-all-rnr-threads        6425 non-null   uint8  \n",
      "dtypes: float64(1), int64(9), object(8), uint8(9)\n",
      "memory usage: 960.1+ KB\n"
     ]
    }
   ],
   "source": [
    "df.info()"
   ]
  },
  {
   "cell_type": "code",
   "execution_count": null,
   "metadata": {},
   "outputs": [
    {
     "name": "stdout",
     "output_type": "stream",
     "text": [
      "<class 'pandas.core.frame.DataFrame'>\n",
      "RangeIndex: 6425 entries, 0 to 6424\n",
      "Data columns (total 27 columns):\n",
      " #   Column                             Non-Null Count  Dtype  \n",
      "---  ------                             --------------  -----  \n",
      " 0   favorite_count                     6425 non-null   object \n",
      " 1   retweeted                          6425 non-null   int64  \n",
      " 2   retweet_count                      6425 non-null   object \n",
      " 3   favorited                          6425 non-null   int64  \n",
      " 4   user.profile_use_background_image  6425 non-null   int64  \n",
      " 5   user.default_profile_image         6425 non-null   int64  \n",
      " 6   user.verified                      6425 non-null   int64  \n",
      " 7   user.followers_count               6425 non-null   object \n",
      " 8   user.listed_count                  6425 non-null   object \n",
      " 9   user.statuses_count                6425 non-null   object \n",
      " 10  user.friends_count                 6425 non-null   object \n",
      " 11  user.favourites_count              6425 non-null   object \n",
      " 12  reaction_count                     6425 non-null   object \n",
      " 13  category                           6425 non-null   int64  \n",
      " 14  text_length                        6425 non-null   int64  \n",
      " 15  contain_hashtags                   6425 non-null   int64  \n",
      " 16  user.description_length            6425 non-null   float64\n",
      " 17  user.description_contain_at        6425 non-null   int64  \n",
      " 18  charliehebdo-all-rnr-threads       6425 non-null   uint8  \n",
      " 19  ebola-essien-all-rnr-threads       6425 non-null   uint8  \n",
      " 20  ferguson-all-rnr-threads           6425 non-null   uint8  \n",
      " 21  germanwings-crash-all-rnr-threads  6425 non-null   uint8  \n",
      " 22  gurlitt-all-rnr-threads            6425 non-null   uint8  \n",
      " 23  ottawashooting-all-rnr-threads     6425 non-null   uint8  \n",
      " 24  prince-toronto-all-rnr-threads     6425 non-null   uint8  \n",
      " 25  putinmissing-all-rnr-threads       6425 non-null   uint8  \n",
      " 26  sydneysiege-all-rnr-threads        6425 non-null   uint8  \n",
      "dtypes: float64(1), int64(9), object(8), uint8(9)\n",
      "memory usage: 960.1+ KB\n"
     ]
    },
    {
     "data": {
      "text/plain": [
       "favorite_count                       0\n",
       "retweeted                            0\n",
       "retweet_count                        0\n",
       "favorited                            0\n",
       "user.profile_use_background_image    0\n",
       "user.default_profile_image           0\n",
       "user.verified                        0\n",
       "user.followers_count                 0\n",
       "user.listed_count                    0\n",
       "user.statuses_count                  0\n",
       "user.friends_count                   0\n",
       "user.favourites_count                0\n",
       "reaction_count                       0\n",
       "category                             0\n",
       "text_length                          0\n",
       "contain_hashtags                     0\n",
       "user.description_length              0\n",
       "user.description_contain_at          0\n",
       "charliehebdo-all-rnr-threads         0\n",
       "ebola-essien-all-rnr-threads         0\n",
       "ferguson-all-rnr-threads             0\n",
       "germanwings-crash-all-rnr-threads    0\n",
       "gurlitt-all-rnr-threads              0\n",
       "ottawashooting-all-rnr-threads       0\n",
       "prince-toronto-all-rnr-threads       0\n",
       "putinmissing-all-rnr-threads         0\n",
       "sydneysiege-all-rnr-threads          0\n",
       "dtype: int64"
      ]
     },
     "execution_count": 11,
     "metadata": {},
     "output_type": "execute_result"
    }
   ],
   "source": [
    "df.info()\n",
    "df.isnull().sum()"
   ]
  },
  {
   "cell_type": "code",
   "execution_count": null,
   "metadata": {},
   "outputs": [],
   "source": [
    "target = df['category']\n",
    "features = df.drop(['category'], axis=1)"
   ]
  },
  {
   "cell_type": "code",
   "execution_count": 30,
   "metadata": {},
   "outputs": [],
   "source": [
    "x_train, x_test, y_train, y_test = train_test_split(features, target, test_size=0.25, random_state=0)"
   ]
  },
  {
   "cell_type": "code",
   "execution_count": 31,
   "metadata": {},
   "outputs": [
    {
     "data": {
      "text/html": [
       "<style>#sk-container-id-3 {color: black;background-color: white;}#sk-container-id-3 pre{padding: 0;}#sk-container-id-3 div.sk-toggleable {background-color: white;}#sk-container-id-3 label.sk-toggleable__label {cursor: pointer;display: block;width: 100%;margin-bottom: 0;padding: 0.3em;box-sizing: border-box;text-align: center;}#sk-container-id-3 label.sk-toggleable__label-arrow:before {content: \"▸\";float: left;margin-right: 0.25em;color: #696969;}#sk-container-id-3 label.sk-toggleable__label-arrow:hover:before {color: black;}#sk-container-id-3 div.sk-estimator:hover label.sk-toggleable__label-arrow:before {color: black;}#sk-container-id-3 div.sk-toggleable__content {max-height: 0;max-width: 0;overflow: hidden;text-align: left;background-color: #f0f8ff;}#sk-container-id-3 div.sk-toggleable__content pre {margin: 0.2em;color: black;border-radius: 0.25em;background-color: #f0f8ff;}#sk-container-id-3 input.sk-toggleable__control:checked~div.sk-toggleable__content {max-height: 200px;max-width: 100%;overflow: auto;}#sk-container-id-3 input.sk-toggleable__control:checked~label.sk-toggleable__label-arrow:before {content: \"▾\";}#sk-container-id-3 div.sk-estimator input.sk-toggleable__control:checked~label.sk-toggleable__label {background-color: #d4ebff;}#sk-container-id-3 div.sk-label input.sk-toggleable__control:checked~label.sk-toggleable__label {background-color: #d4ebff;}#sk-container-id-3 input.sk-hidden--visually {border: 0;clip: rect(1px 1px 1px 1px);clip: rect(1px, 1px, 1px, 1px);height: 1px;margin: -1px;overflow: hidden;padding: 0;position: absolute;width: 1px;}#sk-container-id-3 div.sk-estimator {font-family: monospace;background-color: #f0f8ff;border: 1px dotted black;border-radius: 0.25em;box-sizing: border-box;margin-bottom: 0.5em;}#sk-container-id-3 div.sk-estimator:hover {background-color: #d4ebff;}#sk-container-id-3 div.sk-parallel-item::after {content: \"\";width: 100%;border-bottom: 1px solid gray;flex-grow: 1;}#sk-container-id-3 div.sk-label:hover label.sk-toggleable__label {background-color: #d4ebff;}#sk-container-id-3 div.sk-serial::before {content: \"\";position: absolute;border-left: 1px solid gray;box-sizing: border-box;top: 0;bottom: 0;left: 50%;z-index: 0;}#sk-container-id-3 div.sk-serial {display: flex;flex-direction: column;align-items: center;background-color: white;padding-right: 0.2em;padding-left: 0.2em;position: relative;}#sk-container-id-3 div.sk-item {position: relative;z-index: 1;}#sk-container-id-3 div.sk-parallel {display: flex;align-items: stretch;justify-content: center;background-color: white;position: relative;}#sk-container-id-3 div.sk-item::before, #sk-container-id-3 div.sk-parallel-item::before {content: \"\";position: absolute;border-left: 1px solid gray;box-sizing: border-box;top: 0;bottom: 0;left: 50%;z-index: -1;}#sk-container-id-3 div.sk-parallel-item {display: flex;flex-direction: column;z-index: 1;position: relative;background-color: white;}#sk-container-id-3 div.sk-parallel-item:first-child::after {align-self: flex-end;width: 50%;}#sk-container-id-3 div.sk-parallel-item:last-child::after {align-self: flex-start;width: 50%;}#sk-container-id-3 div.sk-parallel-item:only-child::after {width: 0;}#sk-container-id-3 div.sk-dashed-wrapped {border: 1px dashed gray;margin: 0 0.4em 0.5em 0.4em;box-sizing: border-box;padding-bottom: 0.4em;background-color: white;}#sk-container-id-3 div.sk-label label {font-family: monospace;font-weight: bold;display: inline-block;line-height: 1.2em;}#sk-container-id-3 div.sk-label-container {text-align: center;}#sk-container-id-3 div.sk-container {/* jupyter's `normalize.less` sets `[hidden] { display: none; }` but bootstrap.min.css set `[hidden] { display: none !important; }` so we also need the `!important` here to be able to override the default hidden behavior on the sphinx rendered scikit-learn.org. See: https://github.com/scikit-learn/scikit-learn/issues/21755 */display: inline-block !important;position: relative;}#sk-container-id-3 div.sk-text-repr-fallback {display: none;}</style><div id=\"sk-container-id-3\" class=\"sk-top-container\"><div class=\"sk-text-repr-fallback\"><pre>LogisticRegression()</pre><b>In a Jupyter environment, please rerun this cell to show the HTML representation or trust the notebook. <br />On GitHub, the HTML representation is unable to render, please try loading this page with nbviewer.org.</b></div><div class=\"sk-container\" hidden><div class=\"sk-item\"><div class=\"sk-estimator sk-toggleable\"><input class=\"sk-toggleable__control sk-hidden--visually\" id=\"sk-estimator-id-3\" type=\"checkbox\" checked><label for=\"sk-estimator-id-3\" class=\"sk-toggleable__label sk-toggleable__label-arrow\">LogisticRegression</label><div class=\"sk-toggleable__content\"><pre>LogisticRegression()</pre></div></div></div></div></div>"
      ],
      "text/plain": [
       "LogisticRegression()"
      ]
     },
     "execution_count": 31,
     "metadata": {},
     "output_type": "execute_result"
    }
   ],
   "source": [
    "logisticRegr = LogisticRegression()\n",
    "logisticRegr.fit(x_train, y_train)"
   ]
  },
  {
   "cell_type": "code",
   "execution_count": 32,
   "metadata": {},
   "outputs": [],
   "source": [
    "predictions = logisticRegr.predict(x_test)\n",
    "from sklearn.metrics import classification_report, confusion_matrix"
   ]
  },
  {
   "cell_type": "code",
   "execution_count": 33,
   "metadata": {},
   "outputs": [],
   "source": [
    "y_pred = logisticRegr.predict(x_test)\n",
    "score_ = logisticRegr.score(x_test, y_test)\n",
    "report = classification_report(y_test, y_pred)"
   ]
  },
  {
   "cell_type": "code",
   "execution_count": 34,
   "metadata": {},
   "outputs": [
    {
     "data": {
      "text/plain": [
       "0.6297448662103298"
      ]
     },
     "execution_count": 34,
     "metadata": {},
     "output_type": "execute_result"
    }
   ],
   "source": [
    "score_"
   ]
  },
  {
   "cell_type": "code",
   "execution_count": 35,
   "metadata": {},
   "outputs": [
    {
     "name": "stdout",
     "output_type": "stream",
     "text": [
      "              precision    recall  f1-score   support\n",
      "\n",
      "           0       0.64      0.95      0.77      1021\n",
      "           1       0.45      0.07      0.12       586\n",
      "\n",
      "    accuracy                           0.63      1607\n",
      "   macro avg       0.55      0.51      0.44      1607\n",
      "weighted avg       0.57      0.63      0.53      1607\n",
      "\n"
     ]
    }
   ],
   "source": [
    "print(report)"
   ]
  },
  {
   "cell_type": "code",
   "execution_count": null,
   "metadata": {},
   "outputs": [],
   "source": []
  }
 ],
 "metadata": {
  "kernelspec": {
   "display_name": "Python 3 (ipykernel)",
   "language": "python",
   "name": "python3"
  },
  "language_info": {
   "codemirror_mode": {
    "name": "ipython",
    "version": 3
   },
   "file_extension": ".py",
   "mimetype": "text/x-python",
   "name": "python",
   "nbconvert_exporter": "python",
   "pygments_lexer": "ipython3",
   "version": "3.10.7"
  }
 },
 "nbformat": 4,
 "nbformat_minor": 4
}
